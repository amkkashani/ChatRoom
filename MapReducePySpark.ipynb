{
  "nbformat": 4,
  "nbformat_minor": 0,
  "metadata": {
    "colab": {
      "name": "Q1.ipynb",
      "provenance": [],
      "collapsed_sections": [],
      "mount_file_id": "1IkY1Lnv3MsL1yeAbzWKHEe0CI2KEIcHM",
      "authorship_tag": "ABX9TyMpvZWAS5QB/ud+lM3IFu2N",
      "include_colab_link": true
    },
    "kernelspec": {
      "name": "python3",
      "display_name": "Python 3"
    },
    "language_info": {
      "name": "python"
    }
  },
  "cells": [
    {
      "cell_type": "markdown",
      "metadata": {
        "id": "view-in-github",
        "colab_type": "text"
      },
      "source": [
        "<a href=\"https://colab.research.google.com/github/amkkashani/ChatRoom/blob/master/MapReducePySpark.ipynb\" target=\"_parent\"><img src=\"https://colab.research.google.com/assets/colab-badge.svg\" alt=\"Open In Colab\"/></a>"
      ]
    },
    {
      "cell_type": "markdown",
      "source": [
        "**Installing pyspark**"
      ],
      "metadata": {
        "id": "o4XesLOmE0sW"
      }
    },
    {
      "cell_type": "code",
      "execution_count": 1,
      "metadata": {
        "colab": {
          "base_uri": "https://localhost:8080/"
        },
        "id": "xodkdTWu9to3",
        "outputId": "b9bdb7c2-ecf1-4c48-e662-44089b9dc299"
      },
      "outputs": [
        {
          "output_type": "stream",
          "name": "stdout",
          "text": [
            "Collecting pyspark\n",
            "  Downloading pyspark-3.2.1.tar.gz (281.4 MB)\n",
            "\u001b[K     |████████████████████████████████| 281.4 MB 32 kB/s \n",
            "\u001b[?25hCollecting py4j\n",
            "  Downloading py4j-0.10.9.5-py2.py3-none-any.whl (199 kB)\n",
            "\u001b[K     |████████████████████████████████| 199 kB 59.1 MB/s \n",
            "\u001b[?25h  Downloading py4j-0.10.9.3-py2.py3-none-any.whl (198 kB)\n",
            "\u001b[K     |████████████████████████████████| 198 kB 53.3 MB/s \n",
            "\u001b[?25hBuilding wheels for collected packages: pyspark\n",
            "  Building wheel for pyspark (setup.py) ... \u001b[?25l\u001b[?25hdone\n",
            "  Created wheel for pyspark: filename=pyspark-3.2.1-py2.py3-none-any.whl size=281853642 sha256=9517a5c76a5c60dd98bae144b2da41ab5028236134ff242e35a9e4ab1e548a85\n",
            "  Stored in directory: /root/.cache/pip/wheels/9f/f5/07/7cd8017084dce4e93e84e92efd1e1d5334db05f2e83bcef74f\n",
            "Successfully built pyspark\n",
            "Installing collected packages: py4j, pyspark\n",
            "Successfully installed py4j-0.10.9.3 pyspark-3.2.1\n"
          ]
        }
      ],
      "source": [
        "!pip install pyspark py4j"
      ]
    },
    {
      "cell_type": "code",
      "source": [
        "from google.colab import drive\n"
      ],
      "metadata": {
        "id": "rak6t9Pu_U0g"
      },
      "execution_count": null,
      "outputs": []
    },
    {
      "cell_type": "markdown",
      "source": [
        "**Remove last sparkContex and make new one**\n",
        "\n",
        "\n"
      ],
      "metadata": {
        "id": "bOEcLt-yNkD6"
      }
    },
    {
      "cell_type": "code",
      "source": [
        "from pyspark import SparkContext, SparkConf\n",
        "sc = SparkContext.getOrCreate()\n",
        "sc.stop()\n",
        "sc = SparkContext(\"local\", \"count friend\")"
      ],
      "metadata": {
        "id": "yQC3CNvrKANL"
      },
      "execution_count": null,
      "outputs": []
    },
    {
      "cell_type": "markdown",
      "source": [
        "**Input Data**"
      ],
      "metadata": {
        "id": "q1lgs2m5Eq1y"
      }
    },
    {
      "cell_type": "code",
      "source": [
        "import pandas as pd\n",
        "df = pd.read_csv(\"/content/drive/MyDrive/bigData/q1/dataset1.txt\", names = [\"id\" , \"friends\"],delimiter = \"\\t\" )\n",
        "df = df.dropna() # remove nulls rows\n",
        "df[\"friends\"] = df[\"friends\"].apply(lambda inputRow :  list(inputRow.split(\",\")))\n"
      ],
      "metadata": {
        "id": "6lAudMYDTlEu"
      },
      "execution_count": null,
      "outputs": []
    },
    {
      "cell_type": "code",
      "source": [
        "# convert to dict for faster access\n",
        "dictionaryByid = df.set_index('id').T.to_dict('records')\n",
        "dataLists = df.to_dict('records')\n",
        "# dictionaryByid[0][98]\n",
        "\n"
      ],
      "metadata": {
        "id": "lSEyqmWse6Uo"
      },
      "execution_count": null,
      "outputs": []
    },
    {
      "cell_type": "markdown",
      "source": [
        "### **MAP**"
      ],
      "metadata": {
        "id": "RLeUJ7nUw7Lu"
      }
    },
    {
      "cell_type": "code",
      "source": [
        "rdd = sc.parallelize(dataLists)\n",
        "\n",
        "def mapData(row):\n",
        "  result = []\n",
        "  myFriends = row[\"friends\"]\n",
        "\n",
        "  for i in range(len(myFriends)):\n",
        "    semiFriendShip = {}\n",
        "    \n",
        "    for j in range(len(myFriends)):\n",
        "      if i == j :\n",
        "        continue  \n",
        "      semiFriendShip[myFriends[j]] = 1\n",
        "    \n",
        "    result.append((myFriends[i], semiFriendShip))\n",
        "\n",
        "  return result\n",
        "\n",
        "mapResult = rdd.flatMap(mapData)  "
      ],
      "metadata": {
        "id": "AmRcvVjxwxRH"
      },
      "execution_count": null,
      "outputs": []
    },
    {
      "cell_type": "markdown",
      "source": [
        "### **Reduce**"
      ],
      "metadata": {
        "id": "JY_otBFb2obc"
      }
    },
    {
      "cell_type": "code",
      "source": [
        "def reduceData(input1 , input2):\n",
        "  keys1 = set(input1.keys())\n",
        "  keys2 = set(input2.keys())\n",
        "\n",
        "  kingKey = keys1 | keys2 # all of the keys\n",
        "\n",
        "  freindshipPoints = {}\n",
        "  for key in kingKey:\n",
        "    friendShipPoint = 0\n",
        "\n",
        "    v1 = input1.get(key)\n",
        "    if v1 != None:\n",
        "      friendShipPoint += v1\n",
        "    \n",
        "    v2 = input2.get(key)\n",
        "    if v2 != None:\n",
        "      friendShipPoint += v2\n",
        "\n",
        "    freindshipPoints[key] = friendShipPoint\n",
        "\n",
        "  return freindshipPoints\n",
        "\n",
        "# usage\n",
        "reduceResult = mapResult.reduceByKey(reduceData)\n",
        "finallResult = reduceResult.collect()\n"
      ],
      "metadata": {
        "id": "PfMIezLH1eH5"
      },
      "execution_count": null,
      "outputs": []
    },
    {
      "cell_type": "code",
      "source": [
        "finallResult"
      ],
      "metadata": {
        "id": "Af7rtW27-S2V"
      },
      "execution_count": null,
      "outputs": []
    },
    {
      "cell_type": "code",
      "source": [
        "def findBestChoice(id, number_top):\n",
        "  closeFriends = dictionaryByid[0][id]\n",
        "  friendshipPoints = {}\n",
        "  finalList = []\n",
        "\n",
        "  # find the list of semifreinds\n",
        "  for keys in finallResult:\n",
        "    if keys[0] == id.__str__():\n",
        "      friendshipPoints = keys[1]\n",
        "      break\n",
        "\n",
        "  # sort semi freinds\n",
        "  rankingOfFreinds = {k: v for k, v in sorted(friendshipPoints.items(), key=lambda item: item[1],reverse=True)}\n",
        "\n",
        "  \n",
        "\n",
        "  for freind in rankingOfFreinds.keys():\n",
        "    if freind in closeFriends:\n",
        "      continue    \n",
        "    finalList.append(freind)\n",
        "    if len(finalList) == number_top:\n",
        "      break\n",
        "\n",
        "  return finalList"
      ],
      "metadata": {
        "id": "HQ7dgiXZ8b8x"
      },
      "execution_count": null,
      "outputs": []
    },
    {
      "cell_type": "code",
      "source": [
        "for id in [98, 135, 117, 911, 8804]:\n",
        "  print(\"id : \" + id.__str__())\n",
        "  print(\"suggested friends :\" + findBestChoice(id,20).__str__())"
      ],
      "metadata": {
        "colab": {
          "base_uri": "https://localhost:8080/"
        },
        "id": "XdFt7xAR8loZ",
        "outputId": "1e9af71e-4cc6-471a-fd42-0c034c81a4bb"
      },
      "execution_count": null,
      "outputs": [
        {
          "output_type": "stream",
          "name": "stdout",
          "text": [
            "id : 98\n",
            "suggested friends :['18560', '16350', '30691', '13654', '2554', '16324', '30134', '12326', '21260', '2782', '41775', '40344', '44370', '12577', '21178', '2901', '26395', '47425', '6142', '2495']\n",
            "id : 135\n",
            "suggested friends :['13792', '33060', '629', '5490', '45054', '19217', '34441', '25256', '34164', '34151', '19358', '22357', '34250', '35613', '11399', '142', '19431', '12519', '3575', '442']\n",
            "id : 117\n",
            "suggested friends :['34164', '23507', '12519', '15314', '34207', '34220', '23510', '34140', '34169', '25256', '13793', '11399', '13867', '23615', '5490', '34462', '23513', '22340', '19095', '34390']\n",
            "id : 911\n",
            "suggested friends :['39540', '24456', '40560', '30995', '41352', '30993', '37875', '30984', '33333', '30996', '31056', '20191', '30952', '1698', '40639', '30957', '39491', '39526', '31001', '31028']\n",
            "id : 8804\n",
            "suggested friends :['34179', '34332', '8677', '11399', '13872', '29745', '34233', '15207', '3230', '34174', '11400', '13182', '13792', '19427', '34466', '34326', '623', '11387', '23608', '23567']\n"
          ]
        }
      ]
    }
  ]
}